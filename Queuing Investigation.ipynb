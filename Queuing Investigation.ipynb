{
 "cells": [
  {
   "cell_type": "code",
   "execution_count": 64,
   "metadata": {},
   "outputs": [],
   "source": [
    "import pandas as pd\n",
    "import numpy as np\n",
    "from datetime import datetime\n",
    "\n",
    "#read data in \n",
    "df = pd.read_csv('phone_data_clean.csv')"
   ]
  },
  {
   "cell_type": "code",
   "execution_count": 65,
   "metadata": {},
   "outputs": [],
   "source": [
    "#set capacity from 1-10\n",
    "capacity = np.arange(2,11)"
   ]
  },
  {
   "cell_type": "code",
   "execution_count": 66,
   "metadata": {},
   "outputs": [],
   "source": [
    "def rho(lambda_hour,c,mew):\n",
    "    return lambda_hour/(c*mew)\n",
    "\n",
    "def factorial(n):\n",
    "    fact = 1\n",
    "    if n==0:\n",
    "        fact = 1\n",
    "    else:\n",
    "        for i in range(1,n+1):\n",
    "            fact = fact * i\n",
    "    return fact\n",
    "\n",
    "def p_0(c,lambda_hour,mew,rho):\n",
    "    #first_term = sum(((1/factorial(c-1))*((c*rho)**(c-1))) for c in range(1,c+1))\n",
    "    #second_term = (1/factorial(c))*((rho*c)**c)*(1/(1-rho))\n",
    "    first_term = sum(((1/factorial((c-1)))*((lambda_hour/mew)**(c-1))) for c in range(1,c+1))\n",
    "    second_term = (1/factorial(c))*((lambda_hour/mew)**c)*((mew*c)/(mew*c - lambda_hour))\n",
    "    p_0 = 1/(first_term + second_term)\n",
    "    return p_0\n",
    "\n",
    "def l_q(c,lambda_hour,mew,p_0,rho):\n",
    "    #factor = (1/factorial(c))*((lambda_hour/mew)**c)*(rho/(1 - rho)**2)\n",
    "    factor = (1/factorial(c-1))*((lambda_hour/mew)**c)*((mew*lambda_hour)/(c*mew - lambda_hour)**2)\n",
    "    return factor*p_0\n",
    "\n",
    "def l_s(l_q,lambda_hour,mew):\n",
    "    return l_q + (lambda_hour/mew)\n",
    "\n",
    "def l_w(c,mew,lambda_hour):\n",
    "    return ((c*mew)/(c*mew - lambda_hour))\n",
    "\n",
    "def w_q(l_q,lambda_hour):\n",
    "    return l_q/lambda_hour\n",
    "\n",
    "def w_s(l_s,lambda_hour):\n",
    "    return l_s/lambda_hour\n"
   ]
  },
  {
   "cell_type": "code",
   "execution_count": 67,
   "metadata": {},
   "outputs": [
    {
     "name": "stdout",
     "output_type": "stream",
     "text": [
      "0.6666666666666666 0.8888888888888888\n"
     ]
    }
   ],
   "source": [
    "c = 3\n",
    "mew = 1/2\n",
    "lambda_hour = 1\n",
    "rho = rho(lambda_hour, c, mew)\n",
    "p_0  = p_0(c,lambda_hour,mew,rho)\n",
    "l_q = l_q(c,lambda_hour,mew,p_0,rho)\n",
    "w_q = w_q(l_q,lambda_hour)\n",
    "print(rho,w_q)"
   ]
  },
  {
   "cell_type": "code",
   "execution_count": 68,
   "metadata": {},
   "outputs": [],
   "source": [
    "df['Start time'] = pd.to_datetime(df['Start time'], format=\"%Y-%m-%d %H:%M:%S\")\n",
    "no_days = len(df['Start time'].dt.normalize().value_counts())\n",
    "df = df.groupby(df['Call_ID'])"
   ]
  },
  {
   "cell_type": "code",
   "execution_count": 69,
   "metadata": {},
   "outputs": [],
   "source": [
    "arrival_rate = {}\n",
    "for i in range(7,21):\n",
    "    arrival_rate[i] = 0"
   ]
  },
  {
   "cell_type": "code",
   "execution_count": 70,
   "metadata": {},
   "outputs": [],
   "source": [
    "for name, group in df:\n",
    "    arrival_rate[(group['Start time'].dt.hour).min()] += (1/no_days)"
   ]
  },
  {
   "cell_type": "code",
   "execution_count": 71,
   "metadata": {},
   "outputs": [
    {
     "name": "stdout",
     "output_type": "stream",
     "text": [
      "{7: 2.227272727272726, 8: 43.54545454545527, 9: 31.909090909091308, 10: 24.45454545454564, 11: 29.90909090909125, 12: 27.363636363636633, 13: 24.000000000000174, 14: 27.1363636363639, 15: 24.272727272727455, 16: 17.36363636363635, 17: 9.772727272727286, 18: 1.5909090909090902, 19: 0, 20: 0}\n"
     ]
    }
   ],
   "source": [
    "print(arrival_rate)"
   ]
  },
  {
   "cell_type": "code",
   "execution_count": 27,
   "metadata": {},
   "outputs": [
    {
     "name": "stdout",
     "output_type": "stream",
     "text": [
      "5798\n"
     ]
    }
   ],
   "source": []
  },
  {
   "cell_type": "code",
   "execution_count": null,
   "metadata": {},
   "outputs": [],
   "source": []
  }
 ],
 "metadata": {
  "kernelspec": {
   "display_name": "Python 3",
   "language": "python",
   "name": "python3"
  },
  "language_info": {
   "codemirror_mode": {
    "name": "ipython",
    "version": 3
   },
   "file_extension": ".py",
   "mimetype": "text/x-python",
   "name": "python",
   "nbconvert_exporter": "python",
   "pygments_lexer": "ipython3",
   "version": "3.7.8"
  }
 },
 "nbformat": 4,
 "nbformat_minor": 4
}
